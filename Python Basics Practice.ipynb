{
 "cells": [
  {
   "cell_type": "markdown",
   "id": "74387a2f",
   "metadata": {},
   "source": [
    "FINDING THE EVEN AND ODD NUMBERS IN THE LIST"
   ]
  },
  {
   "cell_type": "code",
   "execution_count": 3,
   "id": "3f9f9f1d",
   "metadata": {},
   "outputs": [
    {
     "name": "stdout",
     "output_type": "stream",
     "text": [
      "The given number is even number 0\n",
      "The given number is odd number 1\n",
      "The given number is even number 2\n",
      "The given number is odd number 3\n",
      "The given number is even number 4\n",
      "The given number is odd number 5\n",
      "The given number is even number 6\n",
      "The given number is odd number 7\n",
      "The given number is even number 8\n",
      "The given number is odd number 9\n",
      "The given number is even number 10\n",
      "The given number is odd number 11\n",
      "The given number is even number 12\n",
      "The given number is odd number 13\n",
      "The given number is even number 14\n",
      "The given number is odd number 15\n",
      "The given number is even number 16\n",
      "The given number is odd number 17\n",
      "The given number is even number 18\n",
      "The given number is odd number 19\n",
      "The given number is even number 20\n"
     ]
    }
   ],
   "source": [
    "list = [0,1,2,3,4,5,6,7,8,9,10,11,12,13,14,15,16,17,18,19,20]\n",
    "\n",
    "for n in list:\n",
    "    if (n % 2 == 0):\n",
    "        print (\"The given number is even number\",n)\n",
    "    else:\n",
    "        print (\"The given number is odd number\",n)\n"
   ]
  },
  {
   "cell_type": "markdown",
   "id": "79875995",
   "metadata": {},
   "source": [
    "IMPORTING MODULES"
   ]
  },
  {
   "cell_type": "code",
   "execution_count": 7,
   "id": "4af161f2",
   "metadata": {},
   "outputs": [
    {
     "name": "stdout",
     "output_type": "stream",
     "text": [
      "[24.87951453 25.75266644 26.54175958 25.64719663 25.70594634 26.06411961\n",
      " 31.56787726 38.35726337 17.68218075 30.09975045]\n"
     ]
    },
    {
     "data": {
      "text/plain": [
       "array([24.87951453, 25.75266644, 26.54175958, 25.64719663, 25.70594634,\n",
       "       26.06411961, 31.56787726, 38.35726337, 17.68218075, 30.09975045])"
      ]
     },
     "execution_count": 7,
     "metadata": {},
     "output_type": "execute_result"
    }
   ],
   "source": [
    "import numpy as np \n",
    "import pandas as pd\n",
    "\n",
    "A = np.random.normal(25.0, 5.0, 10)\n",
    "print(A)\n",
    "A"
   ]
  },
  {
   "cell_type": "markdown",
   "id": "6e462052",
   "metadata": {},
   "source": [
    "LISTS"
   ]
  },
  {
   "cell_type": "code",
   "execution_count": 9,
   "id": "62e3a344",
   "metadata": {},
   "outputs": [
    {
     "name": "stdout",
     "output_type": "stream",
     "text": [
      "10\n"
     ]
    }
   ],
   "source": [
    "x = [1,2,3,4,5,6,7,8,9,10]\n",
    "print(len(x))"
   ]
  },
  {
   "cell_type": "code",
   "execution_count": 10,
   "id": "af6371ee",
   "metadata": {},
   "outputs": [
    {
     "data": {
      "text/plain": [
       "[1, 2, 3]"
      ]
     },
     "execution_count": 10,
     "metadata": {},
     "output_type": "execute_result"
    }
   ],
   "source": [
    "x[:3]"
   ]
  },
  {
   "cell_type": "code",
   "execution_count": 11,
   "id": "dce7fe27",
   "metadata": {},
   "outputs": [
    {
     "data": {
      "text/plain": [
       "[4, 5, 6, 7, 8, 9, 10]"
      ]
     },
     "execution_count": 11,
     "metadata": {},
     "output_type": "execute_result"
    }
   ],
   "source": [
    "x[3:]"
   ]
  },
  {
   "cell_type": "code",
   "execution_count": 12,
   "id": "1309d1ab",
   "metadata": {},
   "outputs": [
    {
     "data": {
      "text/plain": [
       "[9, 10]"
      ]
     },
     "execution_count": 12,
     "metadata": {},
     "output_type": "execute_result"
    }
   ],
   "source": [
    "x[-2:]"
   ]
  },
  {
   "cell_type": "code",
   "execution_count": 13,
   "id": "2a85f5cf",
   "metadata": {},
   "outputs": [
    {
     "data": {
      "text/plain": [
       "[8, 9, 10]"
      ]
     },
     "execution_count": 13,
     "metadata": {},
     "output_type": "execute_result"
    }
   ],
   "source": [
    "x[-3:]"
   ]
  },
  {
   "cell_type": "code",
   "execution_count": 15,
   "id": "ba44ab79",
   "metadata": {},
   "outputs": [
    {
     "data": {
      "text/plain": [
       "[4, 5]"
      ]
     },
     "execution_count": 15,
     "metadata": {},
     "output_type": "execute_result"
    }
   ],
   "source": [
    "x[3:5]"
   ]
  },
  {
   "cell_type": "code",
   "execution_count": 17,
   "id": "c38c3e0c",
   "metadata": {},
   "outputs": [
    {
     "data": {
      "text/plain": [
       "[1, 2, 3, 4, 5, 6, 7, 8, 9, 10, 11, 12]"
      ]
     },
     "execution_count": 17,
     "metadata": {},
     "output_type": "execute_result"
    }
   ],
   "source": [
    "x.extend([11,12])\n",
    "x"
   ]
  },
  {
   "cell_type": "code",
   "execution_count": 18,
   "id": "d6033001",
   "metadata": {},
   "outputs": [
    {
     "data": {
      "text/plain": [
       "[1, 2, 3, 4, 5, 6, 7, 8, 9, 10, 11, 12, [13, 14]]"
      ]
     },
     "execution_count": 18,
     "metadata": {},
     "output_type": "execute_result"
    }
   ],
   "source": [
    "x.append([13,14])\n",
    "x"
   ]
  },
  {
   "cell_type": "code",
   "execution_count": 19,
   "id": "b42d58bc",
   "metadata": {},
   "outputs": [
    {
     "data": {
      "text/plain": [
       "[1, 2, 3, 4, 5, 6, 7, 8, 9, 10, 11, 12, [13, 14], 15]"
      ]
     },
     "execution_count": 19,
     "metadata": {},
     "output_type": "execute_result"
    }
   ],
   "source": [
    "x.append(15)\n",
    "x"
   ]
  },
  {
   "cell_type": "code",
   "execution_count": 21,
   "id": "db99bb5c",
   "metadata": {},
   "outputs": [
    {
     "data": {
      "text/plain": [
       "[20, 21, 22]"
      ]
     },
     "execution_count": 21,
     "metadata": {},
     "output_type": "execute_result"
    }
   ],
   "source": [
    "y = [20,21,22]\n",
    "y"
   ]
  },
  {
   "cell_type": "code",
   "execution_count": 22,
   "id": "e11e7724",
   "metadata": {},
   "outputs": [
    {
     "data": {
      "text/plain": [
       "[[1, 2, 3, 4, 5, 6, 7, 8, 9, 10, 11, 12, [13, 14], 15], [20, 21, 22]]"
      ]
     },
     "execution_count": 22,
     "metadata": {},
     "output_type": "execute_result"
    }
   ],
   "source": [
    "listoflist = [x,y]\n",
    "listoflist"
   ]
  },
  {
   "cell_type": "code",
   "execution_count": 23,
   "id": "b6a379f4",
   "metadata": {},
   "outputs": [
    {
     "data": {
      "text/plain": [
       "[20, 21, 22]"
      ]
     },
     "execution_count": 23,
     "metadata": {},
     "output_type": "execute_result"
    }
   ],
   "source": [
    "listoflist[1]"
   ]
  },
  {
   "cell_type": "code",
   "execution_count": 24,
   "id": "b29c57c5",
   "metadata": {},
   "outputs": [
    {
     "data": {
      "text/plain": [
       "[13, 14]"
      ]
     },
     "execution_count": 24,
     "metadata": {},
     "output_type": "execute_result"
    }
   ],
   "source": [
    "listoflist[0][12]"
   ]
  },
  {
   "cell_type": "code",
   "execution_count": 25,
   "id": "140d377f",
   "metadata": {},
   "outputs": [
    {
     "data": {
      "text/plain": [
       "14"
      ]
     },
     "execution_count": 25,
     "metadata": {},
     "output_type": "execute_result"
    }
   ],
   "source": [
    "listoflist[0][12][1]"
   ]
  },
  {
   "cell_type": "code",
   "execution_count": 27,
   "id": "b28d376f",
   "metadata": {},
   "outputs": [
    {
     "data": {
      "text/plain": [
       "[1, 2, 3, 4, 5]"
      ]
     },
     "execution_count": 27,
     "metadata": {},
     "output_type": "execute_result"
    }
   ],
   "source": [
    "z = [5,4,3,2,1]\n",
    "z.sort()\n",
    "z"
   ]
  },
  {
   "cell_type": "code",
   "execution_count": 29,
   "id": "28636da3",
   "metadata": {},
   "outputs": [
    {
     "data": {
      "text/plain": [
       "[5, 4, 3, 2, 1]"
      ]
     },
     "execution_count": 29,
     "metadata": {},
     "output_type": "execute_result"
    }
   ],
   "source": [
    "z.sort(reverse=True)\n",
    "z"
   ]
  },
  {
   "cell_type": "markdown",
   "id": "778b1a25",
   "metadata": {},
   "source": [
    "TUPLES"
   ]
  },
  {
   "cell_type": "markdown",
   "id": "e4e08756",
   "metadata": {},
   "source": [
    "LISTS ARE MUTABLE BUT TUPLES ARE IMMUTABLE"
   ]
  },
  {
   "cell_type": "code",
   "execution_count": 30,
   "id": "37e86182",
   "metadata": {},
   "outputs": [
    {
     "data": {
      "text/plain": [
       "(1, 2, 3)"
      ]
     },
     "execution_count": 30,
     "metadata": {},
     "output_type": "execute_result"
    }
   ],
   "source": [
    "x = (1,2,3)\n",
    "x"
   ]
  },
  {
   "cell_type": "code",
   "execution_count": 31,
   "id": "e22730fb",
   "metadata": {},
   "outputs": [
    {
     "data": {
      "text/plain": [
       "3"
      ]
     },
     "execution_count": 31,
     "metadata": {},
     "output_type": "execute_result"
    }
   ],
   "source": [
    "len(x)"
   ]
  },
  {
   "cell_type": "code",
   "execution_count": 32,
   "id": "9b417c68",
   "metadata": {},
   "outputs": [
    {
     "data": {
      "text/plain": [
       "1"
      ]
     },
     "execution_count": 32,
     "metadata": {},
     "output_type": "execute_result"
    }
   ],
   "source": [
    "x[0]"
   ]
  },
  {
   "cell_type": "code",
   "execution_count": 33,
   "id": "39884d8d",
   "metadata": {},
   "outputs": [
    {
     "data": {
      "text/plain": [
       "3"
      ]
     },
     "execution_count": 33,
     "metadata": {},
     "output_type": "execute_result"
    }
   ],
   "source": [
    "x[-1]"
   ]
  },
  {
   "cell_type": "code",
   "execution_count": 34,
   "id": "f298d38d",
   "metadata": {},
   "outputs": [
    {
     "data": {
      "text/plain": [
       "(4, 5, 6)"
      ]
     },
     "execution_count": 34,
     "metadata": {},
     "output_type": "execute_result"
    }
   ],
   "source": [
    "y = (4,5,6)\n",
    "y"
   ]
  },
  {
   "cell_type": "code",
   "execution_count": 35,
   "id": "3017de35",
   "metadata": {},
   "outputs": [],
   "source": [
    "listoftuples = [x,y]"
   ]
  },
  {
   "cell_type": "code",
   "execution_count": 36,
   "id": "d9ccc0f4",
   "metadata": {},
   "outputs": [
    {
     "data": {
      "text/plain": [
       "[(1, 2, 3), (4, 5, 6)]"
      ]
     },
     "execution_count": 36,
     "metadata": {},
     "output_type": "execute_result"
    }
   ],
   "source": [
    "listoftuples"
   ]
  },
  {
   "cell_type": "code",
   "execution_count": 38,
   "id": "881d10a8",
   "metadata": {},
   "outputs": [
    {
     "data": {
      "text/plain": [
       "(4, 5, 6)"
      ]
     },
     "execution_count": 38,
     "metadata": {},
     "output_type": "execute_result"
    }
   ],
   "source": [
    "listoftuples[1]"
   ]
  },
  {
   "cell_type": "code",
   "execution_count": 39,
   "id": "ee030301",
   "metadata": {},
   "outputs": [
    {
     "data": {
      "text/plain": [
       "(1, 2, 3)"
      ]
     },
     "execution_count": 39,
     "metadata": {},
     "output_type": "execute_result"
    }
   ],
   "source": [
    "x"
   ]
  },
  {
   "cell_type": "code",
   "execution_count": 42,
   "id": "683845ad",
   "metadata": {},
   "outputs": [
    {
     "name": "stdout",
     "output_type": "stream",
     "text": [
      "32\n",
      "12000\n"
     ]
    }
   ],
   "source": [
    "(age,income) = \"32,12000\".split(',')\n",
    "print(age)\n",
    "print(income)"
   ]
  },
  {
   "cell_type": "markdown",
   "id": "67bf166b",
   "metadata": {},
   "source": [
    "DICTIONARIES"
   ]
  },
  {
   "cell_type": "code",
   "execution_count": 45,
   "id": "4b05e7f8",
   "metadata": {},
   "outputs": [
    {
     "name": "stdout",
     "output_type": "stream",
     "text": [
      "kirk\n",
      "janeway\n"
     ]
    }
   ],
   "source": [
    "captain = {}\n",
    "captain[\"enterprise\"] = \"kirk\"\n",
    "captain[\"enterprise D\"] = \"picard\"\n",
    "captain[\"Deep Space Nine\"] = \"sisko\"\n",
    "captain[\"voyager\"] = \"janeway\"\n",
    "\n",
    "print(captain[\"enterprise\"])\n",
    "print(captain[\"voyager\"])"
   ]
  },
  {
   "cell_type": "code",
   "execution_count": 46,
   "id": "9f1365f2",
   "metadata": {},
   "outputs": [
    {
     "name": "stdout",
     "output_type": "stream",
     "text": [
      "kirk\n"
     ]
    }
   ],
   "source": [
    "print(captain.get(\"enterprise\"))"
   ]
  },
  {
   "cell_type": "code",
   "execution_count": 47,
   "id": "28f374de",
   "metadata": {},
   "outputs": [
    {
     "name": "stdout",
     "output_type": "stream",
     "text": [
      "None\n"
     ]
    }
   ],
   "source": [
    "print(captain.get(\"dummy\"))"
   ]
  },
  {
   "cell_type": "code",
   "execution_count": 48,
   "id": "7f02c38a",
   "metadata": {},
   "outputs": [
    {
     "name": "stdout",
     "output_type": "stream",
     "text": [
      "enterprise: kirk\n",
      "enterprise D: picard\n",
      "Deep Space Nine: sisko\n",
      "voyager: janeway\n"
     ]
    }
   ],
   "source": [
    "for ship in captain:\n",
    "    print(ship + \": \" + captain[ship])"
   ]
  },
  {
   "cell_type": "markdown",
   "id": "7b7b9b8c",
   "metadata": {},
   "source": [
    "FUNCTIONS"
   ]
  },
  {
   "cell_type": "code",
   "execution_count": 49,
   "id": "6aaabbb0",
   "metadata": {},
   "outputs": [],
   "source": [
    "def squareit(x):\n",
    "    return x * x"
   ]
  },
  {
   "cell_type": "code",
   "execution_count": 50,
   "id": "bbb35794",
   "metadata": {},
   "outputs": [
    {
     "data": {
      "text/plain": [
       "100"
      ]
     },
     "execution_count": 50,
     "metadata": {},
     "output_type": "execute_result"
    }
   ],
   "source": [
    "squareit(10)"
   ]
  },
  {
   "cell_type": "code",
   "execution_count": 51,
   "id": "4932ee15",
   "metadata": {},
   "outputs": [],
   "source": [
    "#we can pass a function as an argument \n",
    "\n",
    "def dosomething(f,x):\n",
    "    return f(x)"
   ]
  },
  {
   "cell_type": "code",
   "execution_count": 52,
   "id": "32fa9e4d",
   "metadata": {},
   "outputs": [
    {
     "data": {
      "text/plain": [
       "25"
      ]
     },
     "execution_count": 52,
     "metadata": {},
     "output_type": "execute_result"
    }
   ],
   "source": [
    "dosomething(squareit,5)"
   ]
  },
  {
   "cell_type": "code",
   "execution_count": 53,
   "id": "d319bb45",
   "metadata": {},
   "outputs": [
    {
     "data": {
      "text/plain": [
       "512"
      ]
     },
     "execution_count": 53,
     "metadata": {},
     "output_type": "execute_result"
    }
   ],
   "source": [
    "#using lambda functions\n",
    "\n",
    "dosomething(lambda x:x*x*x,8)"
   ]
  },
  {
   "cell_type": "markdown",
   "id": "a5147078",
   "metadata": {},
   "source": [
    "BOOLEAN EXPRESSIONS"
   ]
  },
  {
   "cell_type": "code",
   "execution_count": 54,
   "id": "c0b12615",
   "metadata": {},
   "outputs": [
    {
     "name": "stdout",
     "output_type": "stream",
     "text": [
      "False\n"
     ]
    }
   ],
   "source": [
    "print (1==3)"
   ]
  },
  {
   "cell_type": "code",
   "execution_count": 55,
   "id": "5eb82d4d",
   "metadata": {},
   "outputs": [
    {
     "name": "stdout",
     "output_type": "stream",
     "text": [
      "True\n"
     ]
    }
   ],
   "source": [
    "print (1==1)"
   ]
  },
  {
   "cell_type": "code",
   "execution_count": 57,
   "id": "3b305594",
   "metadata": {},
   "outputs": [
    {
     "name": "stdout",
     "output_type": "stream",
     "text": [
      "True\n"
     ]
    }
   ],
   "source": [
    "print (True or False)"
   ]
  },
  {
   "cell_type": "code",
   "execution_count": 60,
   "id": "2ef1b33e",
   "metadata": {},
   "outputs": [
    {
     "name": "stdout",
     "output_type": "stream",
     "text": [
      "False\n"
     ]
    }
   ],
   "source": [
    "print (2 == 5)"
   ]
  },
  {
   "cell_type": "code",
   "execution_count": 61,
   "id": "4a71f920",
   "metadata": {},
   "outputs": [
    {
     "name": "stdout",
     "output_type": "stream",
     "text": [
      "The expression is correct\n"
     ]
    }
   ],
   "source": [
    "if 1==1:\n",
    "    print (\"The expression is correct\")\n",
    "elif 1==2:\n",
    "    print (\"The expression is incorrect\")\n",
    "else:\n",
    "    print (\"Both the expression is incorrect\")"
   ]
  },
  {
   "cell_type": "markdown",
   "id": "50a0a26e",
   "metadata": {},
   "source": [
    "LOOPING"
   ]
  },
  {
   "cell_type": "code",
   "execution_count": 62,
   "id": "c61891ac",
   "metadata": {},
   "outputs": [
    {
     "name": "stdout",
     "output_type": "stream",
     "text": [
      "0\n",
      "1\n",
      "2\n",
      "3\n",
      "4\n",
      "5\n",
      "6\n",
      "7\n",
      "8\n",
      "9\n",
      "10\n",
      "11\n",
      "12\n",
      "13\n",
      "14\n",
      "15\n",
      "16\n",
      "17\n",
      "18\n",
      "19\n"
     ]
    }
   ],
   "source": [
    "for x in range(20):\n",
    "    print(x)"
   ]
  },
  {
   "cell_type": "code",
   "execution_count": 64,
   "id": "56057c56",
   "metadata": {},
   "outputs": [
    {
     "name": "stdout",
     "output_type": "stream",
     "text": [
      "0\n",
      "2\n",
      "3\n",
      "4\n",
      "5\n"
     ]
    }
   ],
   "source": [
    "for x in range(10):\n",
    "    if (x == 1):\n",
    "        continue\n",
    "    if (x > 5):\n",
    "        break\n",
    "    print(x)"
   ]
  },
  {
   "cell_type": "code",
   "execution_count": 67,
   "id": "d99dba23",
   "metadata": {},
   "outputs": [
    {
     "name": "stdout",
     "output_type": "stream",
     "text": [
      "0\n",
      "1\n",
      "2\n",
      "3\n",
      "4\n",
      "5\n",
      "6\n",
      "7\n",
      "8\n",
      "9\n"
     ]
    }
   ],
   "source": [
    "x = 0\n",
    "while (x < 10):\n",
    "    print(x)\n",
    "    x += 1"
   ]
  },
  {
   "cell_type": "markdown",
   "id": "f0c80694",
   "metadata": {},
   "source": [
    "ACTIVITY \n",
    "\n",
    "Write some code that creates a list of integers, loops through each element of the list, and only prints out even numbers!"
   ]
  },
  {
   "cell_type": "code",
   "execution_count": 73,
   "id": "259518c8",
   "metadata": {},
   "outputs": [
    {
     "name": "stdout",
     "output_type": "stream",
     "text": [
      "The given number is an even number 0\n",
      "The given number is an even number 2\n",
      "The given number is an even number 4\n",
      "The given number is an even number 6\n",
      "The given number is an even number 8\n",
      "The given number is an even number 10\n",
      "The given number is an even number 12\n",
      "The given number is an even number 14\n",
      "The given number is an even number 16\n",
      "The given number is an even number 18\n",
      "All Done\n"
     ]
    }
   ],
   "source": [
    "a = range(20)\n",
    "\n",
    "for n in a:\n",
    "    if n % 2 == 0:\n",
    "        print(\"The given number is an even number\",n)\n",
    "\n",
    "print(\"All Done\")"
   ]
  },
  {
   "cell_type": "code",
   "execution_count": null,
   "id": "7311e303",
   "metadata": {},
   "outputs": [],
   "source": []
  }
 ],
 "metadata": {
  "kernelspec": {
   "display_name": "Python 3 (ipykernel)",
   "language": "python",
   "name": "python3"
  },
  "language_info": {
   "codemirror_mode": {
    "name": "ipython",
    "version": 3
   },
   "file_extension": ".py",
   "mimetype": "text/x-python",
   "name": "python",
   "nbconvert_exporter": "python",
   "pygments_lexer": "ipython3",
   "version": "3.11.5"
  }
 },
 "nbformat": 4,
 "nbformat_minor": 5
}
